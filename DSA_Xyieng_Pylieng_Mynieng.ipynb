{
 "cells": [
  {
   "cell_type": "markdown",
   "id": "8aa5641f",
   "metadata": {
    "id": "8aa5641f"
   },
   "source": [
    "## <div style=\"color:red\"> Bab 1 : Problem Statement </div>"
   ]
  },
  {
   "cell_type": "markdown",
   "id": "a1f0acdb",
   "metadata": {
    "id": "a1f0acdb"
   },
   "source": [
    "#### Masalah\n",
    "- Awal maret, Indonesia dikejutkan dengan covid-19 yang mulai mulai masuk dengan data 2 orang yang terindikasi terkena covid.\n",
    "- Pada penelitian kali ini, peneliti akan melihat pada hari keberapa kemungkinan akan terjadinya lonjakan tertinggi kasus covid-19 dan apa yang terjadi jika diberikan perlakuan seperti *social distancing*. Apakah akan membuat lonjakannya menurun/tidak?\n",
    "\n",
    "#### Model yang digunakan pada data modelling kali ini adalah menggunakan SIR (Susceptible, Infectious, Recovered)\n",
    "- model SIR ini pertama kali digunakan untuk melihat dinamika penyebaran populasi akibat penyakit menular. Pengembangan dari SIR ini adalah SIRS, SIRD, dll. \n",
    "- untuk pengolahan kali ini : S(pasien yg rentan), I(pasien yg sudah dan sedang terkena), R(pasien yg sembuh)\n",
    "- β : laju S ke I (laju penyebaran covid),  γ : laju I ke R (laju kesembuhan)\n",
    "- Batasan :\n",
    "  1. Pada penelitian ini adalah kita tidak melihat laju kematian. Dengan begitu, kematian dan kelahiran dianggap konstan.\n",
    "  2. Pasien yang terkena covid dianggap tidak terinfeksi covid kembali\n",
    "![Main page preview](SIR.png)"
   ]
  },
  {
   "cell_type": "markdown",
   "id": "2b1d9fa0",
   "metadata": {
    "id": "2b1d9fa0"
   },
   "source": [
    "## <div style=\"color:red\">Bab 2 : Data Cleaning and Preprocessing</div>"
   ]
  },
  {
   "cell_type": "code",
   "execution_count": 1,
   "id": "5138fcd5",
   "metadata": {
    "id": "5138fcd5"
   },
   "outputs": [],
   "source": [
    "# library needed \n",
    "import pandas as pd\n",
    "import seaborn as sns\n",
    "import numpy as np\n",
    "from scipy.integrate import odeint\n",
    "import matplotlib.pyplot as plt"
   ]
  },
  {
   "cell_type": "code",
   "execution_count": 33,
   "id": "152cfa77",
   "metadata": {
    "colab": {
     "base_uri": "https://localhost:8080/",
     "height": 346
    },
    "id": "152cfa77",
    "outputId": "1157c39a-3578-4997-8570-8ea8f6f3ef24"
   },
   "outputs": [],
   "source": [
    "# source Jakarta\n",
    "df = pd.read_excel(\"Daily Update Data Agregat Covid-19 Jakarta.xlsx\", sheet_name=\"Data Jakarta\")"
   ]
  },
  {
   "cell_type": "code",
   "execution_count": 34,
   "id": "97166542",
   "metadata": {
    "colab": {
     "base_uri": "https://localhost:8080/",
     "height": 166
    },
    "id": "97166542",
    "outputId": "0cf4c948-fc8e-49f3-8cbd-60db49834884"
   },
   "outputs": [
    {
     "data": {
      "text/html": [
       "<div>\n",
       "<style scoped>\n",
       "    .dataframe tbody tr th:only-of-type {\n",
       "        vertical-align: middle;\n",
       "    }\n",
       "\n",
       "    .dataframe tbody tr th {\n",
       "        vertical-align: top;\n",
       "    }\n",
       "\n",
       "    .dataframe thead th {\n",
       "        text-align: right;\n",
       "    }\n",
       "</style>\n",
       "<table border=\"1\" class=\"dataframe\">\n",
       "  <thead>\n",
       "    <tr style=\"text-align: right;\">\n",
       "      <th></th>\n",
       "      <th>Tanggal</th>\n",
       "      <th>Jam</th>\n",
       "      <th>Tanggal Jam</th>\n",
       "      <th>Meninggal</th>\n",
       "      <th>Sembuh</th>\n",
       "      <th>Self Isolation</th>\n",
       "      <th>Masih Perawatan</th>\n",
       "      <th>Total Pasien</th>\n",
       "      <th>Positif Harian</th>\n",
       "      <th>Positif Aktif</th>\n",
       "      <th>Sembuh Harian</th>\n",
       "      <th>Tanpa Gejala</th>\n",
       "      <th>Bergejala</th>\n",
       "      <th>Belum Ada Data</th>\n",
       "    </tr>\n",
       "  </thead>\n",
       "  <tbody>\n",
       "    <tr>\n",
       "      <th>0</th>\n",
       "      <td>2020-03-01</td>\n",
       "      <td>NaN</td>\n",
       "      <td>NaN</td>\n",
       "      <td>0</td>\n",
       "      <td>0</td>\n",
       "      <td>0</td>\n",
       "      <td>0</td>\n",
       "      <td>0</td>\n",
       "      <td>0</td>\n",
       "      <td>0</td>\n",
       "      <td>0</td>\n",
       "      <td>NaN</td>\n",
       "      <td>NaN</td>\n",
       "      <td>NaN</td>\n",
       "    </tr>\n",
       "    <tr>\n",
       "      <th>1</th>\n",
       "      <td>2020-03-02</td>\n",
       "      <td>NaN</td>\n",
       "      <td>NaN</td>\n",
       "      <td>0</td>\n",
       "      <td>0</td>\n",
       "      <td>0</td>\n",
       "      <td>0</td>\n",
       "      <td>0</td>\n",
       "      <td>0</td>\n",
       "      <td>0</td>\n",
       "      <td>0</td>\n",
       "      <td>NaN</td>\n",
       "      <td>NaN</td>\n",
       "      <td>NaN</td>\n",
       "    </tr>\n",
       "    <tr>\n",
       "      <th>2</th>\n",
       "      <td>2020-03-03</td>\n",
       "      <td>NaN</td>\n",
       "      <td>NaN</td>\n",
       "      <td>1</td>\n",
       "      <td>0</td>\n",
       "      <td>0</td>\n",
       "      <td>2</td>\n",
       "      <td>3</td>\n",
       "      <td>3</td>\n",
       "      <td>2</td>\n",
       "      <td>0</td>\n",
       "      <td>NaN</td>\n",
       "      <td>NaN</td>\n",
       "      <td>NaN</td>\n",
       "    </tr>\n",
       "    <tr>\n",
       "      <th>3</th>\n",
       "      <td>2020-03-04</td>\n",
       "      <td>NaN</td>\n",
       "      <td>NaN</td>\n",
       "      <td>1</td>\n",
       "      <td>0</td>\n",
       "      <td>0</td>\n",
       "      <td>2</td>\n",
       "      <td>3</td>\n",
       "      <td>0</td>\n",
       "      <td>2</td>\n",
       "      <td>0</td>\n",
       "      <td>NaN</td>\n",
       "      <td>NaN</td>\n",
       "      <td>NaN</td>\n",
       "    </tr>\n",
       "    <tr>\n",
       "      <th>4</th>\n",
       "      <td>2020-03-05</td>\n",
       "      <td>NaN</td>\n",
       "      <td>NaN</td>\n",
       "      <td>3</td>\n",
       "      <td>0</td>\n",
       "      <td>0</td>\n",
       "      <td>4</td>\n",
       "      <td>7</td>\n",
       "      <td>4</td>\n",
       "      <td>4</td>\n",
       "      <td>0</td>\n",
       "      <td>NaN</td>\n",
       "      <td>NaN</td>\n",
       "      <td>NaN</td>\n",
       "    </tr>\n",
       "  </tbody>\n",
       "</table>\n",
       "</div>"
      ],
      "text/plain": [
       "     Tanggal  Jam  Tanggal Jam  Meninggal  Sembuh  Self Isolation  \\\n",
       "0 2020-03-01  NaN          NaN          0       0               0   \n",
       "1 2020-03-02  NaN          NaN          0       0               0   \n",
       "2 2020-03-03  NaN          NaN          1       0               0   \n",
       "3 2020-03-04  NaN          NaN          1       0               0   \n",
       "4 2020-03-05  NaN          NaN          3       0               0   \n",
       "\n",
       "   Masih Perawatan  Total Pasien  Positif Harian  Positif Aktif  \\\n",
       "0                0             0               0              0   \n",
       "1                0             0               0              0   \n",
       "2                2             3               3              2   \n",
       "3                2             3               0              2   \n",
       "4                4             7               4              4   \n",
       "\n",
       "   Sembuh Harian  Tanpa Gejala  Bergejala  Belum Ada Data  \n",
       "0              0           NaN        NaN             NaN  \n",
       "1              0           NaN        NaN             NaN  \n",
       "2              0           NaN        NaN             NaN  \n",
       "3              0           NaN        NaN             NaN  \n",
       "4              0           NaN        NaN             NaN  "
      ]
     },
     "execution_count": 34,
     "metadata": {},
     "output_type": "execute_result"
    }
   ],
   "source": [
    "df.head()"
   ]
  },
  {
   "cell_type": "code",
   "execution_count": 35,
   "id": "3863c4fe",
   "metadata": {
    "id": "3863c4fe",
    "outputId": "f9c169b5-f2e2-456d-9159-7f0bd6a3a280"
   },
   "outputs": [
    {
     "data": {
      "text/html": [
       "<div>\n",
       "<style scoped>\n",
       "    .dataframe tbody tr th:only-of-type {\n",
       "        vertical-align: middle;\n",
       "    }\n",
       "\n",
       "    .dataframe tbody tr th {\n",
       "        vertical-align: top;\n",
       "    }\n",
       "\n",
       "    .dataframe thead th {\n",
       "        text-align: right;\n",
       "    }\n",
       "</style>\n",
       "<table border=\"1\" class=\"dataframe\">\n",
       "  <thead>\n",
       "    <tr style=\"text-align: right;\">\n",
       "      <th></th>\n",
       "      <th>Tanggal</th>\n",
       "      <th>Jam</th>\n",
       "      <th>Tanggal Jam</th>\n",
       "      <th>Meninggal</th>\n",
       "      <th>Sembuh</th>\n",
       "      <th>Self Isolation</th>\n",
       "      <th>Masih Perawatan</th>\n",
       "      <th>Total Pasien</th>\n",
       "      <th>Positif Harian</th>\n",
       "      <th>Positif Aktif</th>\n",
       "      <th>Sembuh Harian</th>\n",
       "      <th>Tanpa Gejala</th>\n",
       "      <th>Bergejala</th>\n",
       "      <th>Belum Ada Data</th>\n",
       "    </tr>\n",
       "  </thead>\n",
       "  <tbody>\n",
       "    <tr>\n",
       "      <th>854</th>\n",
       "      <td>2022-07-03</td>\n",
       "      <td>NaN</td>\n",
       "      <td>NaN</td>\n",
       "      <td>15320</td>\n",
       "      <td>1248357</td>\n",
       "      <td>8333</td>\n",
       "      <td>745</td>\n",
       "      <td>1272755</td>\n",
       "      <td>931</td>\n",
       "      <td>9078</td>\n",
       "      <td>1213</td>\n",
       "      <td>0.0</td>\n",
       "      <td>18.0</td>\n",
       "      <td>9060.0</td>\n",
       "    </tr>\n",
       "    <tr>\n",
       "      <th>855</th>\n",
       "      <td>2022-07-04</td>\n",
       "      <td>NaN</td>\n",
       "      <td>NaN</td>\n",
       "      <td>15323</td>\n",
       "      <td>1249496</td>\n",
       "      <td>7937</td>\n",
       "      <td>736</td>\n",
       "      <td>1273492</td>\n",
       "      <td>737</td>\n",
       "      <td>8673</td>\n",
       "      <td>1139</td>\n",
       "      <td>0.0</td>\n",
       "      <td>14.0</td>\n",
       "      <td>8659.0</td>\n",
       "    </tr>\n",
       "    <tr>\n",
       "      <th>856</th>\n",
       "      <td>2022-07-05</td>\n",
       "      <td>NaN</td>\n",
       "      <td>NaN</td>\n",
       "      <td>15325</td>\n",
       "      <td>1250388</td>\n",
       "      <td>8267</td>\n",
       "      <td>788</td>\n",
       "      <td>1274768</td>\n",
       "      <td>1276</td>\n",
       "      <td>9055</td>\n",
       "      <td>892</td>\n",
       "      <td>0.0</td>\n",
       "      <td>52.0</td>\n",
       "      <td>9003.0</td>\n",
       "    </tr>\n",
       "    <tr>\n",
       "      <th>857</th>\n",
       "      <td>2022-07-06</td>\n",
       "      <td>NaN</td>\n",
       "      <td>NaN</td>\n",
       "      <td>15327</td>\n",
       "      <td>1251237</td>\n",
       "      <td>8946</td>\n",
       "      <td>774</td>\n",
       "      <td>1276284</td>\n",
       "      <td>1516</td>\n",
       "      <td>9720</td>\n",
       "      <td>849</td>\n",
       "      <td>0.0</td>\n",
       "      <td>53.0</td>\n",
       "      <td>9667.0</td>\n",
       "    </tr>\n",
       "    <tr>\n",
       "      <th>858</th>\n",
       "      <td>2022-07-07</td>\n",
       "      <td>NaN</td>\n",
       "      <td>NaN</td>\n",
       "      <td>15329</td>\n",
       "      <td>1252398</td>\n",
       "      <td>9220</td>\n",
       "      <td>813</td>\n",
       "      <td>1277760</td>\n",
       "      <td>1476</td>\n",
       "      <td>10033</td>\n",
       "      <td>1161</td>\n",
       "      <td>0.0</td>\n",
       "      <td>68.0</td>\n",
       "      <td>9965.0</td>\n",
       "    </tr>\n",
       "  </tbody>\n",
       "</table>\n",
       "</div>"
      ],
      "text/plain": [
       "       Tanggal  Jam  Tanggal Jam  Meninggal   Sembuh  Self Isolation  \\\n",
       "854 2022-07-03  NaN          NaN      15320  1248357            8333   \n",
       "855 2022-07-04  NaN          NaN      15323  1249496            7937   \n",
       "856 2022-07-05  NaN          NaN      15325  1250388            8267   \n",
       "857 2022-07-06  NaN          NaN      15327  1251237            8946   \n",
       "858 2022-07-07  NaN          NaN      15329  1252398            9220   \n",
       "\n",
       "     Masih Perawatan  Total Pasien  Positif Harian  Positif Aktif  \\\n",
       "854              745       1272755             931           9078   \n",
       "855              736       1273492             737           8673   \n",
       "856              788       1274768            1276           9055   \n",
       "857              774       1276284            1516           9720   \n",
       "858              813       1277760            1476          10033   \n",
       "\n",
       "     Sembuh Harian  Tanpa Gejala  Bergejala  Belum Ada Data  \n",
       "854           1213           0.0       18.0          9060.0  \n",
       "855           1139           0.0       14.0          8659.0  \n",
       "856            892           0.0       52.0          9003.0  \n",
       "857            849           0.0       53.0          9667.0  \n",
       "858           1161           0.0       68.0          9965.0  "
      ]
     },
     "execution_count": 35,
     "metadata": {},
     "output_type": "execute_result"
    }
   ],
   "source": [
    "df.tail()"
   ]
  },
  {
   "cell_type": "code",
   "execution_count": 36,
   "id": "ad2e335d",
   "metadata": {
    "id": "ad2e335d",
    "outputId": "81cf8658-1d7b-4b26-aee3-6c1cb2a65686"
   },
   "outputs": [
    {
     "data": {
      "text/plain": [
       "(859, 14)"
      ]
     },
     "execution_count": 36,
     "metadata": {},
     "output_type": "execute_result"
    }
   ],
   "source": [
    "df.shape"
   ]
  },
  {
   "cell_type": "code",
   "execution_count": 37,
   "id": "26339975",
   "metadata": {
    "id": "26339975",
    "outputId": "4882b4d3-b007-45a4-ff81-ec406acdd9e5"
   },
   "outputs": [
    {
     "data": {
      "text/plain": [
       "Tanggal            False\n",
       "Jam                 True\n",
       "Tanggal Jam         True\n",
       "Meninggal          False\n",
       "Sembuh             False\n",
       "Self Isolation     False\n",
       "Masih Perawatan    False\n",
       "Total Pasien       False\n",
       "Positif Harian     False\n",
       "Positif Aktif      False\n",
       "Sembuh Harian      False\n",
       "Tanpa Gejala        True\n",
       "Bergejala           True\n",
       "Belum Ada Data      True\n",
       "dtype: bool"
      ]
     },
     "execution_count": 37,
     "metadata": {},
     "output_type": "execute_result"
    }
   ],
   "source": [
    "# cek tiap kolom apakah ada yang kosong \n",
    "df.isna().any()"
   ]
  },
  {
   "cell_type": "code",
   "execution_count": 38,
   "id": "ab54ad87",
   "metadata": {
    "id": "ab54ad87",
    "outputId": "40722492-a2ed-4b37-d06e-c44311c76cea"
   },
   "outputs": [
    {
     "data": {
      "text/html": [
       "<div>\n",
       "<style scoped>\n",
       "    .dataframe tbody tr th:only-of-type {\n",
       "        vertical-align: middle;\n",
       "    }\n",
       "\n",
       "    .dataframe tbody tr th {\n",
       "        vertical-align: top;\n",
       "    }\n",
       "\n",
       "    .dataframe thead th {\n",
       "        text-align: right;\n",
       "    }\n",
       "</style>\n",
       "<table border=\"1\" class=\"dataframe\">\n",
       "  <thead>\n",
       "    <tr style=\"text-align: right;\">\n",
       "      <th></th>\n",
       "      <th>Tanggal</th>\n",
       "      <th>Meninggal</th>\n",
       "      <th>Sembuh</th>\n",
       "      <th>Self Isolation</th>\n",
       "      <th>Masih Perawatan</th>\n",
       "      <th>Total Pasien</th>\n",
       "      <th>Positif Harian</th>\n",
       "      <th>Positif Aktif</th>\n",
       "      <th>Sembuh Harian</th>\n",
       "      <th>Tanpa Gejala</th>\n",
       "      <th>Bergejala</th>\n",
       "      <th>Belum Ada Data</th>\n",
       "    </tr>\n",
       "  </thead>\n",
       "  <tbody>\n",
       "    <tr>\n",
       "      <th>0</th>\n",
       "      <td>2020-03-01</td>\n",
       "      <td>0</td>\n",
       "      <td>0</td>\n",
       "      <td>0</td>\n",
       "      <td>0</td>\n",
       "      <td>0</td>\n",
       "      <td>0</td>\n",
       "      <td>0</td>\n",
       "      <td>0</td>\n",
       "      <td>NaN</td>\n",
       "      <td>NaN</td>\n",
       "      <td>NaN</td>\n",
       "    </tr>\n",
       "    <tr>\n",
       "      <th>1</th>\n",
       "      <td>2020-03-02</td>\n",
       "      <td>0</td>\n",
       "      <td>0</td>\n",
       "      <td>0</td>\n",
       "      <td>0</td>\n",
       "      <td>0</td>\n",
       "      <td>0</td>\n",
       "      <td>0</td>\n",
       "      <td>0</td>\n",
       "      <td>NaN</td>\n",
       "      <td>NaN</td>\n",
       "      <td>NaN</td>\n",
       "    </tr>\n",
       "    <tr>\n",
       "      <th>2</th>\n",
       "      <td>2020-03-03</td>\n",
       "      <td>1</td>\n",
       "      <td>0</td>\n",
       "      <td>0</td>\n",
       "      <td>2</td>\n",
       "      <td>3</td>\n",
       "      <td>3</td>\n",
       "      <td>2</td>\n",
       "      <td>0</td>\n",
       "      <td>NaN</td>\n",
       "      <td>NaN</td>\n",
       "      <td>NaN</td>\n",
       "    </tr>\n",
       "    <tr>\n",
       "      <th>3</th>\n",
       "      <td>2020-03-04</td>\n",
       "      <td>1</td>\n",
       "      <td>0</td>\n",
       "      <td>0</td>\n",
       "      <td>2</td>\n",
       "      <td>3</td>\n",
       "      <td>0</td>\n",
       "      <td>2</td>\n",
       "      <td>0</td>\n",
       "      <td>NaN</td>\n",
       "      <td>NaN</td>\n",
       "      <td>NaN</td>\n",
       "    </tr>\n",
       "    <tr>\n",
       "      <th>4</th>\n",
       "      <td>2020-03-05</td>\n",
       "      <td>3</td>\n",
       "      <td>0</td>\n",
       "      <td>0</td>\n",
       "      <td>4</td>\n",
       "      <td>7</td>\n",
       "      <td>4</td>\n",
       "      <td>4</td>\n",
       "      <td>0</td>\n",
       "      <td>NaN</td>\n",
       "      <td>NaN</td>\n",
       "      <td>NaN</td>\n",
       "    </tr>\n",
       "    <tr>\n",
       "      <th>...</th>\n",
       "      <td>...</td>\n",
       "      <td>...</td>\n",
       "      <td>...</td>\n",
       "      <td>...</td>\n",
       "      <td>...</td>\n",
       "      <td>...</td>\n",
       "      <td>...</td>\n",
       "      <td>...</td>\n",
       "      <td>...</td>\n",
       "      <td>...</td>\n",
       "      <td>...</td>\n",
       "      <td>...</td>\n",
       "    </tr>\n",
       "    <tr>\n",
       "      <th>854</th>\n",
       "      <td>2022-07-03</td>\n",
       "      <td>15320</td>\n",
       "      <td>1248357</td>\n",
       "      <td>8333</td>\n",
       "      <td>745</td>\n",
       "      <td>1272755</td>\n",
       "      <td>931</td>\n",
       "      <td>9078</td>\n",
       "      <td>1213</td>\n",
       "      <td>0.0</td>\n",
       "      <td>18.0</td>\n",
       "      <td>9060.0</td>\n",
       "    </tr>\n",
       "    <tr>\n",
       "      <th>855</th>\n",
       "      <td>2022-07-04</td>\n",
       "      <td>15323</td>\n",
       "      <td>1249496</td>\n",
       "      <td>7937</td>\n",
       "      <td>736</td>\n",
       "      <td>1273492</td>\n",
       "      <td>737</td>\n",
       "      <td>8673</td>\n",
       "      <td>1139</td>\n",
       "      <td>0.0</td>\n",
       "      <td>14.0</td>\n",
       "      <td>8659.0</td>\n",
       "    </tr>\n",
       "    <tr>\n",
       "      <th>856</th>\n",
       "      <td>2022-07-05</td>\n",
       "      <td>15325</td>\n",
       "      <td>1250388</td>\n",
       "      <td>8267</td>\n",
       "      <td>788</td>\n",
       "      <td>1274768</td>\n",
       "      <td>1276</td>\n",
       "      <td>9055</td>\n",
       "      <td>892</td>\n",
       "      <td>0.0</td>\n",
       "      <td>52.0</td>\n",
       "      <td>9003.0</td>\n",
       "    </tr>\n",
       "    <tr>\n",
       "      <th>857</th>\n",
       "      <td>2022-07-06</td>\n",
       "      <td>15327</td>\n",
       "      <td>1251237</td>\n",
       "      <td>8946</td>\n",
       "      <td>774</td>\n",
       "      <td>1276284</td>\n",
       "      <td>1516</td>\n",
       "      <td>9720</td>\n",
       "      <td>849</td>\n",
       "      <td>0.0</td>\n",
       "      <td>53.0</td>\n",
       "      <td>9667.0</td>\n",
       "    </tr>\n",
       "    <tr>\n",
       "      <th>858</th>\n",
       "      <td>2022-07-07</td>\n",
       "      <td>15329</td>\n",
       "      <td>1252398</td>\n",
       "      <td>9220</td>\n",
       "      <td>813</td>\n",
       "      <td>1277760</td>\n",
       "      <td>1476</td>\n",
       "      <td>10033</td>\n",
       "      <td>1161</td>\n",
       "      <td>0.0</td>\n",
       "      <td>68.0</td>\n",
       "      <td>9965.0</td>\n",
       "    </tr>\n",
       "  </tbody>\n",
       "</table>\n",
       "<p>859 rows × 12 columns</p>\n",
       "</div>"
      ],
      "text/plain": [
       "       Tanggal  Meninggal   Sembuh  Self Isolation  Masih Perawatan  \\\n",
       "0   2020-03-01          0        0               0                0   \n",
       "1   2020-03-02          0        0               0                0   \n",
       "2   2020-03-03          1        0               0                2   \n",
       "3   2020-03-04          1        0               0                2   \n",
       "4   2020-03-05          3        0               0                4   \n",
       "..         ...        ...      ...             ...              ...   \n",
       "854 2022-07-03      15320  1248357            8333              745   \n",
       "855 2022-07-04      15323  1249496            7937              736   \n",
       "856 2022-07-05      15325  1250388            8267              788   \n",
       "857 2022-07-06      15327  1251237            8946              774   \n",
       "858 2022-07-07      15329  1252398            9220              813   \n",
       "\n",
       "     Total Pasien  Positif Harian  Positif Aktif  Sembuh Harian  Tanpa Gejala  \\\n",
       "0               0               0              0              0           NaN   \n",
       "1               0               0              0              0           NaN   \n",
       "2               3               3              2              0           NaN   \n",
       "3               3               0              2              0           NaN   \n",
       "4               7               4              4              0           NaN   \n",
       "..            ...             ...            ...            ...           ...   \n",
       "854       1272755             931           9078           1213           0.0   \n",
       "855       1273492             737           8673           1139           0.0   \n",
       "856       1274768            1276           9055            892           0.0   \n",
       "857       1276284            1516           9720            849           0.0   \n",
       "858       1277760            1476          10033           1161           0.0   \n",
       "\n",
       "     Bergejala  Belum Ada Data  \n",
       "0          NaN             NaN  \n",
       "1          NaN             NaN  \n",
       "2          NaN             NaN  \n",
       "3          NaN             NaN  \n",
       "4          NaN             NaN  \n",
       "..         ...             ...  \n",
       "854       18.0          9060.0  \n",
       "855       14.0          8659.0  \n",
       "856       52.0          9003.0  \n",
       "857       53.0          9667.0  \n",
       "858       68.0          9965.0  \n",
       "\n",
       "[859 rows x 12 columns]"
      ]
     },
     "metadata": {},
     "output_type": "display_data"
    }
   ],
   "source": [
    "# hapus empty column Jam dan Tanggal jam dikarenakan semua NaN\n",
    "df.dropna(how='all', axis=1, inplace=True)\n",
    "  \n",
    "# show the dataframe\n",
    "display(df)"
   ]
  },
  {
   "cell_type": "code",
   "execution_count": 41,
   "id": "127559ae",
   "metadata": {
    "id": "127559ae",
    "outputId": "7936ee5c-cb63-4d8e-8909-0675a549a1ef"
   },
   "outputs": [
    {
     "data": {
      "text/html": [
       "<div>\n",
       "<style scoped>\n",
       "    .dataframe tbody tr th:only-of-type {\n",
       "        vertical-align: middle;\n",
       "    }\n",
       "\n",
       "    .dataframe tbody tr th {\n",
       "        vertical-align: top;\n",
       "    }\n",
       "\n",
       "    .dataframe thead th {\n",
       "        text-align: right;\n",
       "    }\n",
       "</style>\n",
       "<table border=\"1\" class=\"dataframe\">\n",
       "  <thead>\n",
       "    <tr style=\"text-align: right;\">\n",
       "      <th></th>\n",
       "      <th>Tanggal</th>\n",
       "      <th>Meninggal</th>\n",
       "      <th>Sembuh</th>\n",
       "      <th>Self Isolation</th>\n",
       "      <th>Masih Perawatan</th>\n",
       "      <th>Total Pasien</th>\n",
       "      <th>Positif Harian</th>\n",
       "      <th>Positif Aktif</th>\n",
       "      <th>Sembuh Harian</th>\n",
       "      <th>Tanpa Gejala</th>\n",
       "      <th>Bergejala</th>\n",
       "      <th>Belum Ada Data</th>\n",
       "    </tr>\n",
       "  </thead>\n",
       "  <tbody>\n",
       "    <tr>\n",
       "      <th>0</th>\n",
       "      <td>2020-03-01</td>\n",
       "      <td>0</td>\n",
       "      <td>0</td>\n",
       "      <td>0</td>\n",
       "      <td>0</td>\n",
       "      <td>0</td>\n",
       "      <td>0</td>\n",
       "      <td>0</td>\n",
       "      <td>0</td>\n",
       "      <td>0.0</td>\n",
       "      <td>0.0</td>\n",
       "      <td>0.0</td>\n",
       "    </tr>\n",
       "    <tr>\n",
       "      <th>1</th>\n",
       "      <td>2020-03-02</td>\n",
       "      <td>0</td>\n",
       "      <td>0</td>\n",
       "      <td>0</td>\n",
       "      <td>0</td>\n",
       "      <td>0</td>\n",
       "      <td>0</td>\n",
       "      <td>0</td>\n",
       "      <td>0</td>\n",
       "      <td>0.0</td>\n",
       "      <td>0.0</td>\n",
       "      <td>0.0</td>\n",
       "    </tr>\n",
       "    <tr>\n",
       "      <th>2</th>\n",
       "      <td>2020-03-03</td>\n",
       "      <td>1</td>\n",
       "      <td>0</td>\n",
       "      <td>0</td>\n",
       "      <td>2</td>\n",
       "      <td>3</td>\n",
       "      <td>3</td>\n",
       "      <td>2</td>\n",
       "      <td>0</td>\n",
       "      <td>0.0</td>\n",
       "      <td>0.0</td>\n",
       "      <td>0.0</td>\n",
       "    </tr>\n",
       "    <tr>\n",
       "      <th>3</th>\n",
       "      <td>2020-03-04</td>\n",
       "      <td>1</td>\n",
       "      <td>0</td>\n",
       "      <td>0</td>\n",
       "      <td>2</td>\n",
       "      <td>3</td>\n",
       "      <td>0</td>\n",
       "      <td>2</td>\n",
       "      <td>0</td>\n",
       "      <td>0.0</td>\n",
       "      <td>0.0</td>\n",
       "      <td>0.0</td>\n",
       "    </tr>\n",
       "    <tr>\n",
       "      <th>4</th>\n",
       "      <td>2020-03-05</td>\n",
       "      <td>3</td>\n",
       "      <td>0</td>\n",
       "      <td>0</td>\n",
       "      <td>4</td>\n",
       "      <td>7</td>\n",
       "      <td>4</td>\n",
       "      <td>4</td>\n",
       "      <td>0</td>\n",
       "      <td>0.0</td>\n",
       "      <td>0.0</td>\n",
       "      <td>0.0</td>\n",
       "    </tr>\n",
       "    <tr>\n",
       "      <th>...</th>\n",
       "      <td>...</td>\n",
       "      <td>...</td>\n",
       "      <td>...</td>\n",
       "      <td>...</td>\n",
       "      <td>...</td>\n",
       "      <td>...</td>\n",
       "      <td>...</td>\n",
       "      <td>...</td>\n",
       "      <td>...</td>\n",
       "      <td>...</td>\n",
       "      <td>...</td>\n",
       "      <td>...</td>\n",
       "    </tr>\n",
       "    <tr>\n",
       "      <th>854</th>\n",
       "      <td>2022-07-03</td>\n",
       "      <td>15320</td>\n",
       "      <td>1248357</td>\n",
       "      <td>8333</td>\n",
       "      <td>745</td>\n",
       "      <td>1272755</td>\n",
       "      <td>931</td>\n",
       "      <td>9078</td>\n",
       "      <td>1213</td>\n",
       "      <td>0.0</td>\n",
       "      <td>18.0</td>\n",
       "      <td>9060.0</td>\n",
       "    </tr>\n",
       "    <tr>\n",
       "      <th>855</th>\n",
       "      <td>2022-07-04</td>\n",
       "      <td>15323</td>\n",
       "      <td>1249496</td>\n",
       "      <td>7937</td>\n",
       "      <td>736</td>\n",
       "      <td>1273492</td>\n",
       "      <td>737</td>\n",
       "      <td>8673</td>\n",
       "      <td>1139</td>\n",
       "      <td>0.0</td>\n",
       "      <td>14.0</td>\n",
       "      <td>8659.0</td>\n",
       "    </tr>\n",
       "    <tr>\n",
       "      <th>856</th>\n",
       "      <td>2022-07-05</td>\n",
       "      <td>15325</td>\n",
       "      <td>1250388</td>\n",
       "      <td>8267</td>\n",
       "      <td>788</td>\n",
       "      <td>1274768</td>\n",
       "      <td>1276</td>\n",
       "      <td>9055</td>\n",
       "      <td>892</td>\n",
       "      <td>0.0</td>\n",
       "      <td>52.0</td>\n",
       "      <td>9003.0</td>\n",
       "    </tr>\n",
       "    <tr>\n",
       "      <th>857</th>\n",
       "      <td>2022-07-06</td>\n",
       "      <td>15327</td>\n",
       "      <td>1251237</td>\n",
       "      <td>8946</td>\n",
       "      <td>774</td>\n",
       "      <td>1276284</td>\n",
       "      <td>1516</td>\n",
       "      <td>9720</td>\n",
       "      <td>849</td>\n",
       "      <td>0.0</td>\n",
       "      <td>53.0</td>\n",
       "      <td>9667.0</td>\n",
       "    </tr>\n",
       "    <tr>\n",
       "      <th>858</th>\n",
       "      <td>2022-07-07</td>\n",
       "      <td>15329</td>\n",
       "      <td>1252398</td>\n",
       "      <td>9220</td>\n",
       "      <td>813</td>\n",
       "      <td>1277760</td>\n",
       "      <td>1476</td>\n",
       "      <td>10033</td>\n",
       "      <td>1161</td>\n",
       "      <td>0.0</td>\n",
       "      <td>68.0</td>\n",
       "      <td>9965.0</td>\n",
       "    </tr>\n",
       "  </tbody>\n",
       "</table>\n",
       "<p>859 rows × 12 columns</p>\n",
       "</div>"
      ],
      "text/plain": [
       "       Tanggal  Meninggal   Sembuh  Self Isolation  Masih Perawatan  \\\n",
       "0   2020-03-01          0        0               0                0   \n",
       "1   2020-03-02          0        0               0                0   \n",
       "2   2020-03-03          1        0               0                2   \n",
       "3   2020-03-04          1        0               0                2   \n",
       "4   2020-03-05          3        0               0                4   \n",
       "..         ...        ...      ...             ...              ...   \n",
       "854 2022-07-03      15320  1248357            8333              745   \n",
       "855 2022-07-04      15323  1249496            7937              736   \n",
       "856 2022-07-05      15325  1250388            8267              788   \n",
       "857 2022-07-06      15327  1251237            8946              774   \n",
       "858 2022-07-07      15329  1252398            9220              813   \n",
       "\n",
       "     Total Pasien  Positif Harian  Positif Aktif  Sembuh Harian  Tanpa Gejala  \\\n",
       "0               0               0              0              0           0.0   \n",
       "1               0               0              0              0           0.0   \n",
       "2               3               3              2              0           0.0   \n",
       "3               3               0              2              0           0.0   \n",
       "4               7               4              4              0           0.0   \n",
       "..            ...             ...            ...            ...           ...   \n",
       "854       1272755             931           9078           1213           0.0   \n",
       "855       1273492             737           8673           1139           0.0   \n",
       "856       1274768            1276           9055            892           0.0   \n",
       "857       1276284            1516           9720            849           0.0   \n",
       "858       1277760            1476          10033           1161           0.0   \n",
       "\n",
       "     Bergejala  Belum Ada Data  \n",
       "0          0.0             0.0  \n",
       "1          0.0             0.0  \n",
       "2          0.0             0.0  \n",
       "3          0.0             0.0  \n",
       "4          0.0             0.0  \n",
       "..         ...             ...  \n",
       "854       18.0          9060.0  \n",
       "855       14.0          8659.0  \n",
       "856       52.0          9003.0  \n",
       "857       53.0          9667.0  \n",
       "858       68.0          9965.0  \n",
       "\n",
       "[859 rows x 12 columns]"
      ]
     },
     "execution_count": 41,
     "metadata": {},
     "output_type": "execute_result"
    }
   ],
   "source": [
    "# Mengganti NaN pada (Tanpa Gejala, Bergejala, Belum Ada Data) dengan 0\n",
    "dat = df.fillna(0)\n",
    "dat"
   ]
  },
  {
   "cell_type": "code",
   "execution_count": 44,
   "id": "5a48a2e5",
   "metadata": {
    "id": "5a48a2e5",
    "outputId": "5eb2c7c8-bb43-4f0d-bb13-3d517241aec8"
   },
   "outputs": [
    {
     "data": {
      "text/html": [
       "<div>\n",
       "<style scoped>\n",
       "    .dataframe tbody tr th:only-of-type {\n",
       "        vertical-align: middle;\n",
       "    }\n",
       "\n",
       "    .dataframe tbody tr th {\n",
       "        vertical-align: top;\n",
       "    }\n",
       "\n",
       "    .dataframe thead th {\n",
       "        text-align: right;\n",
       "    }\n",
       "</style>\n",
       "<table border=\"1\" class=\"dataframe\">\n",
       "  <thead>\n",
       "    <tr style=\"text-align: right;\">\n",
       "      <th></th>\n",
       "      <th>Tanggal</th>\n",
       "      <th>Meninggal</th>\n",
       "      <th>Sembuh</th>\n",
       "      <th>Self Isolation</th>\n",
       "      <th>Masih Perawatan</th>\n",
       "      <th>Total Pasien</th>\n",
       "      <th>Positif Harian</th>\n",
       "      <th>Positif Aktif</th>\n",
       "      <th>Sembuh Harian</th>\n",
       "      <th>Tanpa Gejala</th>\n",
       "      <th>Bergejala</th>\n",
       "      <th>Belum Ada Data</th>\n",
       "    </tr>\n",
       "  </thead>\n",
       "  <tbody>\n",
       "    <tr>\n",
       "      <th>2</th>\n",
       "      <td>2020-03-03</td>\n",
       "      <td>1</td>\n",
       "      <td>0</td>\n",
       "      <td>0</td>\n",
       "      <td>2</td>\n",
       "      <td>3</td>\n",
       "      <td>3</td>\n",
       "      <td>2</td>\n",
       "      <td>0</td>\n",
       "      <td>0.0</td>\n",
       "      <td>0.0</td>\n",
       "      <td>0.0</td>\n",
       "    </tr>\n",
       "    <tr>\n",
       "      <th>3</th>\n",
       "      <td>2020-03-04</td>\n",
       "      <td>1</td>\n",
       "      <td>0</td>\n",
       "      <td>0</td>\n",
       "      <td>2</td>\n",
       "      <td>3</td>\n",
       "      <td>0</td>\n",
       "      <td>2</td>\n",
       "      <td>0</td>\n",
       "      <td>0.0</td>\n",
       "      <td>0.0</td>\n",
       "      <td>0.0</td>\n",
       "    </tr>\n",
       "    <tr>\n",
       "      <th>4</th>\n",
       "      <td>2020-03-05</td>\n",
       "      <td>3</td>\n",
       "      <td>0</td>\n",
       "      <td>0</td>\n",
       "      <td>4</td>\n",
       "      <td>7</td>\n",
       "      <td>4</td>\n",
       "      <td>4</td>\n",
       "      <td>0</td>\n",
       "      <td>0.0</td>\n",
       "      <td>0.0</td>\n",
       "      <td>0.0</td>\n",
       "    </tr>\n",
       "    <tr>\n",
       "      <th>5</th>\n",
       "      <td>2020-03-06</td>\n",
       "      <td>3</td>\n",
       "      <td>0</td>\n",
       "      <td>0</td>\n",
       "      <td>4</td>\n",
       "      <td>7</td>\n",
       "      <td>0</td>\n",
       "      <td>4</td>\n",
       "      <td>0</td>\n",
       "      <td>0.0</td>\n",
       "      <td>0.0</td>\n",
       "      <td>0.0</td>\n",
       "    </tr>\n",
       "    <tr>\n",
       "      <th>6</th>\n",
       "      <td>2020-03-07</td>\n",
       "      <td>3</td>\n",
       "      <td>0</td>\n",
       "      <td>0</td>\n",
       "      <td>4</td>\n",
       "      <td>7</td>\n",
       "      <td>0</td>\n",
       "      <td>4</td>\n",
       "      <td>0</td>\n",
       "      <td>0.0</td>\n",
       "      <td>0.0</td>\n",
       "      <td>0.0</td>\n",
       "    </tr>\n",
       "    <tr>\n",
       "      <th>...</th>\n",
       "      <td>...</td>\n",
       "      <td>...</td>\n",
       "      <td>...</td>\n",
       "      <td>...</td>\n",
       "      <td>...</td>\n",
       "      <td>...</td>\n",
       "      <td>...</td>\n",
       "      <td>...</td>\n",
       "      <td>...</td>\n",
       "      <td>...</td>\n",
       "      <td>...</td>\n",
       "      <td>...</td>\n",
       "    </tr>\n",
       "    <tr>\n",
       "      <th>854</th>\n",
       "      <td>2022-07-03</td>\n",
       "      <td>15320</td>\n",
       "      <td>1248357</td>\n",
       "      <td>8333</td>\n",
       "      <td>745</td>\n",
       "      <td>1272755</td>\n",
       "      <td>931</td>\n",
       "      <td>9078</td>\n",
       "      <td>1213</td>\n",
       "      <td>0.0</td>\n",
       "      <td>18.0</td>\n",
       "      <td>9060.0</td>\n",
       "    </tr>\n",
       "    <tr>\n",
       "      <th>855</th>\n",
       "      <td>2022-07-04</td>\n",
       "      <td>15323</td>\n",
       "      <td>1249496</td>\n",
       "      <td>7937</td>\n",
       "      <td>736</td>\n",
       "      <td>1273492</td>\n",
       "      <td>737</td>\n",
       "      <td>8673</td>\n",
       "      <td>1139</td>\n",
       "      <td>0.0</td>\n",
       "      <td>14.0</td>\n",
       "      <td>8659.0</td>\n",
       "    </tr>\n",
       "    <tr>\n",
       "      <th>856</th>\n",
       "      <td>2022-07-05</td>\n",
       "      <td>15325</td>\n",
       "      <td>1250388</td>\n",
       "      <td>8267</td>\n",
       "      <td>788</td>\n",
       "      <td>1274768</td>\n",
       "      <td>1276</td>\n",
       "      <td>9055</td>\n",
       "      <td>892</td>\n",
       "      <td>0.0</td>\n",
       "      <td>52.0</td>\n",
       "      <td>9003.0</td>\n",
       "    </tr>\n",
       "    <tr>\n",
       "      <th>857</th>\n",
       "      <td>2022-07-06</td>\n",
       "      <td>15327</td>\n",
       "      <td>1251237</td>\n",
       "      <td>8946</td>\n",
       "      <td>774</td>\n",
       "      <td>1276284</td>\n",
       "      <td>1516</td>\n",
       "      <td>9720</td>\n",
       "      <td>849</td>\n",
       "      <td>0.0</td>\n",
       "      <td>53.0</td>\n",
       "      <td>9667.0</td>\n",
       "    </tr>\n",
       "    <tr>\n",
       "      <th>858</th>\n",
       "      <td>2022-07-07</td>\n",
       "      <td>15329</td>\n",
       "      <td>1252398</td>\n",
       "      <td>9220</td>\n",
       "      <td>813</td>\n",
       "      <td>1277760</td>\n",
       "      <td>1476</td>\n",
       "      <td>10033</td>\n",
       "      <td>1161</td>\n",
       "      <td>0.0</td>\n",
       "      <td>68.0</td>\n",
       "      <td>9965.0</td>\n",
       "    </tr>\n",
       "  </tbody>\n",
       "</table>\n",
       "<p>857 rows × 12 columns</p>\n",
       "</div>"
      ],
      "text/plain": [
       "       Tanggal  Meninggal   Sembuh  Self Isolation  Masih Perawatan  \\\n",
       "2   2020-03-03          1        0               0                2   \n",
       "3   2020-03-04          1        0               0                2   \n",
       "4   2020-03-05          3        0               0                4   \n",
       "5   2020-03-06          3        0               0                4   \n",
       "6   2020-03-07          3        0               0                4   \n",
       "..         ...        ...      ...             ...              ...   \n",
       "854 2022-07-03      15320  1248357            8333              745   \n",
       "855 2022-07-04      15323  1249496            7937              736   \n",
       "856 2022-07-05      15325  1250388            8267              788   \n",
       "857 2022-07-06      15327  1251237            8946              774   \n",
       "858 2022-07-07      15329  1252398            9220              813   \n",
       "\n",
       "     Total Pasien  Positif Harian  Positif Aktif  Sembuh Harian  Tanpa Gejala  \\\n",
       "2               3               3              2              0           0.0   \n",
       "3               3               0              2              0           0.0   \n",
       "4               7               4              4              0           0.0   \n",
       "5               7               0              4              0           0.0   \n",
       "6               7               0              4              0           0.0   \n",
       "..            ...             ...            ...            ...           ...   \n",
       "854       1272755             931           9078           1213           0.0   \n",
       "855       1273492             737           8673           1139           0.0   \n",
       "856       1274768            1276           9055            892           0.0   \n",
       "857       1276284            1516           9720            849           0.0   \n",
       "858       1277760            1476          10033           1161           0.0   \n",
       "\n",
       "     Bergejala  Belum Ada Data  \n",
       "2          0.0             0.0  \n",
       "3          0.0             0.0  \n",
       "4          0.0             0.0  \n",
       "5          0.0             0.0  \n",
       "6          0.0             0.0  \n",
       "..         ...             ...  \n",
       "854       18.0          9060.0  \n",
       "855       14.0          8659.0  \n",
       "856       52.0          9003.0  \n",
       "857       53.0          9667.0  \n",
       "858       68.0          9965.0  \n",
       "\n",
       "[857 rows x 12 columns]"
      ]
     },
     "execution_count": 44,
     "metadata": {},
     "output_type": "execute_result"
    }
   ],
   "source": [
    "# data row 0-1 kosong jadi perlu di hapus\n",
    "dat= dat.drop([0,1]);\n",
    "dat"
   ]
  },
  {
   "cell_type": "code",
   "execution_count": 45,
   "id": "4e8a782f",
   "metadata": {
    "id": "4e8a782f",
    "outputId": "a726a9f0-961d-4480-bda6-930ee06daf49"
   },
   "outputs": [
    {
     "name": "stdout",
     "output_type": "stream",
     "text": [
      "<class 'pandas.core.frame.DataFrame'>\n",
      "Int64Index: 857 entries, 2 to 858\n",
      "Data columns (total 12 columns):\n",
      " #   Column           Non-Null Count  Dtype         \n",
      "---  ------           --------------  -----         \n",
      " 0   Tanggal          857 non-null    datetime64[ns]\n",
      " 1   Meninggal        857 non-null    int64         \n",
      " 2   Sembuh           857 non-null    int64         \n",
      " 3   Self Isolation   857 non-null    int64         \n",
      " 4   Masih Perawatan  857 non-null    int64         \n",
      " 5   Total Pasien     857 non-null    int64         \n",
      " 6   Positif Harian   857 non-null    int64         \n",
      " 7   Positif Aktif    857 non-null    int64         \n",
      " 8   Sembuh Harian    857 non-null    int64         \n",
      " 9   Tanpa Gejala     857 non-null    float64       \n",
      " 10  Bergejala        857 non-null    float64       \n",
      " 11  Belum Ada Data   857 non-null    float64       \n",
      "dtypes: datetime64[ns](1), float64(3), int64(8)\n",
      "memory usage: 87.0 KB\n"
     ]
    }
   ],
   "source": [
    "# Print a brief summary of the DataFrame\n",
    "dat.info()"
   ]
  },
  {
   "cell_type": "code",
   "execution_count": 46,
   "id": "26b33958",
   "metadata": {
    "id": "26b33958",
    "outputId": "e5a50ce1-107a-41f1-aff0-af3842e4001b"
   },
   "outputs": [
    {
     "data": {
      "text/plain": [
       "Tanggal            False\n",
       "Meninggal          False\n",
       "Sembuh             False\n",
       "Self Isolation     False\n",
       "Masih Perawatan    False\n",
       "Total Pasien       False\n",
       "Positif Harian     False\n",
       "Positif Aktif      False\n",
       "Sembuh Harian      False\n",
       "Tanpa Gejala       False\n",
       "Bergejala          False\n",
       "Belum Ada Data     False\n",
       "dtype: bool"
      ]
     },
     "execution_count": 46,
     "metadata": {},
     "output_type": "execute_result"
    }
   ],
   "source": [
    "# cek data kosong\n",
    "dat.isna().any()"
   ]
  },
  {
   "cell_type": "code",
   "execution_count": 47,
   "id": "12603f06",
   "metadata": {
    "id": "12603f06",
    "outputId": "5697462c-26ee-4376-a745-545d31a457eb"
   },
   "outputs": [
    {
     "data": {
      "text/plain": [
       "2      False\n",
       "3      False\n",
       "4      False\n",
       "5      False\n",
       "6      False\n",
       "       ...  \n",
       "854    False\n",
       "855    False\n",
       "856    False\n",
       "857    False\n",
       "858    False\n",
       "Length: 857, dtype: bool"
      ]
     },
     "execution_count": 47,
     "metadata": {},
     "output_type": "execute_result"
    }
   ],
   "source": [
    "# cek data duplicate\n",
    "bool_series = dat.duplicated()\n",
    "bool_series "
   ]
  },
  {
   "cell_type": "markdown",
   "id": "1c92633d",
   "metadata": {
    "id": "1c92633d"
   },
   "source": [
    "## <div style=\"color:red\">Bab 3 : Exploratory Data Analysis</div>  "
   ]
  },
  {
   "cell_type": "code",
   "execution_count": 48,
   "id": "386fa97a",
   "metadata": {
    "id": "386fa97a",
    "outputId": "d17bad40-d116-4d0b-ebcf-5551b491d567"
   },
   "outputs": [
    {
     "data": {
      "text/html": [
       "<div>\n",
       "<style scoped>\n",
       "    .dataframe tbody tr th:only-of-type {\n",
       "        vertical-align: middle;\n",
       "    }\n",
       "\n",
       "    .dataframe tbody tr th {\n",
       "        vertical-align: top;\n",
       "    }\n",
       "\n",
       "    .dataframe thead th {\n",
       "        text-align: right;\n",
       "    }\n",
       "</style>\n",
       "<table border=\"1\" class=\"dataframe\">\n",
       "  <thead>\n",
       "    <tr style=\"text-align: right;\">\n",
       "      <th></th>\n",
       "      <th>Meninggal</th>\n",
       "      <th>Sembuh</th>\n",
       "      <th>Self Isolation</th>\n",
       "      <th>Masih Perawatan</th>\n",
       "      <th>Total Pasien</th>\n",
       "      <th>Positif Harian</th>\n",
       "      <th>Positif Aktif</th>\n",
       "      <th>Sembuh Harian</th>\n",
       "      <th>Tanpa Gejala</th>\n",
       "      <th>Bergejala</th>\n",
       "      <th>Belum Ada Data</th>\n",
       "    </tr>\n",
       "  </thead>\n",
       "  <tbody>\n",
       "    <tr>\n",
       "      <th>Meninggal</th>\n",
       "      <td>1.000000</td>\n",
       "      <td>0.982930</td>\n",
       "      <td>0.139234</td>\n",
       "      <td>0.018215</td>\n",
       "      <td>0.983890</td>\n",
       "      <td>0.148909</td>\n",
       "      <td>0.112608</td>\n",
       "      <td>0.169768</td>\n",
       "      <td>-0.328570</td>\n",
       "      <td>-0.181455</td>\n",
       "      <td>0.299282</td>\n",
       "    </tr>\n",
       "    <tr>\n",
       "      <th>Sembuh</th>\n",
       "      <td>0.982930</td>\n",
       "      <td>1.000000</td>\n",
       "      <td>0.113432</td>\n",
       "      <td>-0.032116</td>\n",
       "      <td>0.999049</td>\n",
       "      <td>0.111829</td>\n",
       "      <td>0.080264</td>\n",
       "      <td>0.149366</td>\n",
       "      <td>-0.344389</td>\n",
       "      <td>-0.222814</td>\n",
       "      <td>0.284857</td>\n",
       "    </tr>\n",
       "    <tr>\n",
       "      <th>Self Isolation</th>\n",
       "      <td>0.139234</td>\n",
       "      <td>0.113432</td>\n",
       "      <td>1.000000</td>\n",
       "      <td>0.887200</td>\n",
       "      <td>0.156261</td>\n",
       "      <td>0.927753</td>\n",
       "      <td>0.993622</td>\n",
       "      <td>0.836859</td>\n",
       "      <td>0.422301</td>\n",
       "      <td>0.636004</td>\n",
       "      <td>0.851936</td>\n",
       "    </tr>\n",
       "    <tr>\n",
       "      <th>Masih Perawatan</th>\n",
       "      <td>0.018215</td>\n",
       "      <td>-0.032116</td>\n",
       "      <td>0.887200</td>\n",
       "      <td>1.000000</td>\n",
       "      <td>0.009045</td>\n",
       "      <td>0.891232</td>\n",
       "      <td>0.933568</td>\n",
       "      <td>0.734468</td>\n",
       "      <td>0.447984</td>\n",
       "      <td>0.742443</td>\n",
       "      <td>0.717830</td>\n",
       "    </tr>\n",
       "    <tr>\n",
       "      <th>Total Pasien</th>\n",
       "      <td>0.983890</td>\n",
       "      <td>0.999049</td>\n",
       "      <td>0.156261</td>\n",
       "      <td>0.009045</td>\n",
       "      <td>1.000000</td>\n",
       "      <td>0.152426</td>\n",
       "      <td>0.123593</td>\n",
       "      <td>0.184880</td>\n",
       "      <td>-0.323815</td>\n",
       "      <td>-0.192129</td>\n",
       "      <td>0.320055</td>\n",
       "    </tr>\n",
       "    <tr>\n",
       "      <th>Positif Harian</th>\n",
       "      <td>0.148909</td>\n",
       "      <td>0.111829</td>\n",
       "      <td>0.927753</td>\n",
       "      <td>0.891232</td>\n",
       "      <td>0.152426</td>\n",
       "      <td>1.000000</td>\n",
       "      <td>0.938486</td>\n",
       "      <td>0.791719</td>\n",
       "      <td>0.318543</td>\n",
       "      <td>0.550823</td>\n",
       "      <td>0.858726</td>\n",
       "    </tr>\n",
       "    <tr>\n",
       "      <th>Positif Aktif</th>\n",
       "      <td>0.112608</td>\n",
       "      <td>0.080264</td>\n",
       "      <td>0.993622</td>\n",
       "      <td>0.933568</td>\n",
       "      <td>0.123593</td>\n",
       "      <td>0.938486</td>\n",
       "      <td>1.000000</td>\n",
       "      <td>0.829568</td>\n",
       "      <td>0.437526</td>\n",
       "      <td>0.675495</td>\n",
       "      <td>0.837213</td>\n",
       "    </tr>\n",
       "    <tr>\n",
       "      <th>Sembuh Harian</th>\n",
       "      <td>0.169768</td>\n",
       "      <td>0.149366</td>\n",
       "      <td>0.836859</td>\n",
       "      <td>0.734468</td>\n",
       "      <td>0.184880</td>\n",
       "      <td>0.791719</td>\n",
       "      <td>0.829568</td>\n",
       "      <td>1.000000</td>\n",
       "      <td>0.275716</td>\n",
       "      <td>0.468009</td>\n",
       "      <td>0.765921</td>\n",
       "    </tr>\n",
       "    <tr>\n",
       "      <th>Tanpa Gejala</th>\n",
       "      <td>-0.328570</td>\n",
       "      <td>-0.344389</td>\n",
       "      <td>0.422301</td>\n",
       "      <td>0.447984</td>\n",
       "      <td>-0.323815</td>\n",
       "      <td>0.318543</td>\n",
       "      <td>0.437526</td>\n",
       "      <td>0.275716</td>\n",
       "      <td>1.000000</td>\n",
       "      <td>0.785969</td>\n",
       "      <td>0.112552</td>\n",
       "    </tr>\n",
       "    <tr>\n",
       "      <th>Bergejala</th>\n",
       "      <td>-0.181455</td>\n",
       "      <td>-0.222814</td>\n",
       "      <td>0.636004</td>\n",
       "      <td>0.742443</td>\n",
       "      <td>-0.192129</td>\n",
       "      <td>0.550823</td>\n",
       "      <td>0.675495</td>\n",
       "      <td>0.468009</td>\n",
       "      <td>0.785969</td>\n",
       "      <td>1.000000</td>\n",
       "      <td>0.211156</td>\n",
       "    </tr>\n",
       "    <tr>\n",
       "      <th>Belum Ada Data</th>\n",
       "      <td>0.299282</td>\n",
       "      <td>0.284857</td>\n",
       "      <td>0.851936</td>\n",
       "      <td>0.717830</td>\n",
       "      <td>0.320055</td>\n",
       "      <td>0.858726</td>\n",
       "      <td>0.837213</td>\n",
       "      <td>0.765921</td>\n",
       "      <td>0.112552</td>\n",
       "      <td>0.211156</td>\n",
       "      <td>1.000000</td>\n",
       "    </tr>\n",
       "  </tbody>\n",
       "</table>\n",
       "</div>"
      ],
      "text/plain": [
       "                 Meninggal    Sembuh  Self Isolation  Masih Perawatan  \\\n",
       "Meninggal         1.000000  0.982930        0.139234         0.018215   \n",
       "Sembuh            0.982930  1.000000        0.113432        -0.032116   \n",
       "Self Isolation    0.139234  0.113432        1.000000         0.887200   \n",
       "Masih Perawatan   0.018215 -0.032116        0.887200         1.000000   \n",
       "Total Pasien      0.983890  0.999049        0.156261         0.009045   \n",
       "Positif Harian    0.148909  0.111829        0.927753         0.891232   \n",
       "Positif Aktif     0.112608  0.080264        0.993622         0.933568   \n",
       "Sembuh Harian     0.169768  0.149366        0.836859         0.734468   \n",
       "Tanpa Gejala     -0.328570 -0.344389        0.422301         0.447984   \n",
       "Bergejala        -0.181455 -0.222814        0.636004         0.742443   \n",
       "Belum Ada Data    0.299282  0.284857        0.851936         0.717830   \n",
       "\n",
       "                 Total Pasien  Positif Harian  Positif Aktif  Sembuh Harian  \\\n",
       "Meninggal            0.983890        0.148909       0.112608       0.169768   \n",
       "Sembuh               0.999049        0.111829       0.080264       0.149366   \n",
       "Self Isolation       0.156261        0.927753       0.993622       0.836859   \n",
       "Masih Perawatan      0.009045        0.891232       0.933568       0.734468   \n",
       "Total Pasien         1.000000        0.152426       0.123593       0.184880   \n",
       "Positif Harian       0.152426        1.000000       0.938486       0.791719   \n",
       "Positif Aktif        0.123593        0.938486       1.000000       0.829568   \n",
       "Sembuh Harian        0.184880        0.791719       0.829568       1.000000   \n",
       "Tanpa Gejala        -0.323815        0.318543       0.437526       0.275716   \n",
       "Bergejala           -0.192129        0.550823       0.675495       0.468009   \n",
       "Belum Ada Data       0.320055        0.858726       0.837213       0.765921   \n",
       "\n",
       "                 Tanpa Gejala  Bergejala  Belum Ada Data  \n",
       "Meninggal           -0.328570  -0.181455        0.299282  \n",
       "Sembuh              -0.344389  -0.222814        0.284857  \n",
       "Self Isolation       0.422301   0.636004        0.851936  \n",
       "Masih Perawatan      0.447984   0.742443        0.717830  \n",
       "Total Pasien        -0.323815  -0.192129        0.320055  \n",
       "Positif Harian       0.318543   0.550823        0.858726  \n",
       "Positif Aktif        0.437526   0.675495        0.837213  \n",
       "Sembuh Harian        0.275716   0.468009        0.765921  \n",
       "Tanpa Gejala         1.000000   0.785969        0.112552  \n",
       "Bergejala            0.785969   1.000000        0.211156  \n",
       "Belum Ada Data       0.112552   0.211156        1.000000  "
      ]
     },
     "execution_count": 48,
     "metadata": {},
     "output_type": "execute_result"
    }
   ],
   "source": [
    "korelasi = dat.corr()\n",
    "korelasi\n",
    "# terdapat hubungan erat antara positif aktif, positif harian terhadap self isolation\n",
    "# nantii hipotesanya : self isolation --> mengganggu mobilitas\n",
    "# mohon dicek : apa yang bergejala & bergejala ini trennya naik atau tidak\n",
    "# cek : self isolation, masih perawatan, positif harian, positif aktif, sembuh harian, belum ada data"
   ]
  },
  {
   "cell_type": "code",
   "execution_count": 49,
   "id": "20ca810f",
   "metadata": {
    "id": "20ca810f",
    "outputId": "e0261b87-e803-40eb-dbb4-0f5d5ecbbe35"
   },
   "outputs": [
    {
     "data": {
      "image/png": "[encoded data removed]",
      "text/plain": [
       "<Figure size 432x288 with 2 Axes>"
      ]
     },
     "metadata": {
      "needs_background": "light"
     },
     "output_type": "display_data"
    }
   ],
   "source": [
    "sns.heatmap(korelasi);"
   ]
  },
  {
   "cell_type": "markdown",
   "id": "5ec629ee",
   "metadata": {
    "id": "5ec629ee"
   },
   "source": [
    "## Penjelasan\n",
    "![Korelasi](korelasi.jpg)\n",
    "- \"Positif Harian\", \"Positif Aktif\" menunjukkan korelasi tinggi dengan \"Self Isolation\". \n",
    "- \"Total Pasien\", \"Total Pasien\" menunjukan korelasi tinggi dengan \"sembuh\" dan \"meninggal\" karena pasien memiliki kemungkinana sembuh atau meninggal \n",
    "-\"Positif Aktif\" memiliki korelasi yang lebih tinggi degan \"bergejala\" dibanding \"tanpa gejala\""
   ]
  },
  {
   "cell_type": "code",
   "execution_count": 50,
   "id": "a91b5ff8",
   "metadata": {
    "id": "a91b5ff8",
    "outputId": "a211a93a-e415-4287-8232-377b1e18c937"
   },
   "outputs": [
    {
     "data": {
      "text/plain": [
       "<Figure size 432x288 with 0 Axes>"
      ]
     },
     "metadata": {},
     "output_type": "display_data"
    },
    {
     "data": {
      "image/png": "[encoded data removed]",
      "text/plain": [
       "<Figure size 720x396 with 1 Axes>"
      ]
     },
     "metadata": {
      "needs_background": "light"
     },
     "output_type": "display_data"
    }
   ],
   "source": [
    "plt.clf()\n",
    "fig, ax = plt.subplots(figsize=(10,5.5))\n",
    "plt.xlabel('Tahun 2020-2022')\n",
    "plt.ylabel('Total Pasien')\n",
    "\n",
    "plt.title('Total Pasien tiap tahun')\n",
    "ax.bar(data=dat, x='Tanggal', height='Total Pasien')\n",
    "plt.grid(True)\n",
    "plt.show()"
   ]
  },
  {
   "cell_type": "markdown",
   "id": "0b0e0f03",
   "metadata": {
    "id": "0b0e0f03"
   },
   "source": [
    "## Penjelasan\n",
    "- TOTAL PASIEN meningkat dengan alur LAMBAT di AWAL, tetapi mulai CEPAT di SEKITAR bulan September 2021\n",
    "- Terdapat dua LONJAKAN pada TOTAL PASIEN, yaitu PERTAMA di SEKITAR bulan Juli 2021 dan KEDUA di SEKITAR bulan Maret 2022\n",
    "- Setelah LONJAKAN akan ada waktu saat TOTAL PASIEN BERTAMBAH secara LAMBAT"
   ]
  },
  {
   "cell_type": "code",
   "execution_count": 51,
   "id": "hPVsJPlyqpYg",
   "metadata": {
    "colab": {
     "base_uri": "https://localhost:8080/",
     "height": 235
    },
    "id": "hPVsJPlyqpYg",
    "outputId": "b4b30536-c23f-48fc-af10-5fba5c50b587"
   },
   "outputs": [
    {
     "data": {
      "text/plain": [
       "<Figure size 432x288 with 0 Axes>"
      ]
     },
     "metadata": {},
     "output_type": "display_data"
    },
    {
     "data": {
      "image/png": "[encoded data removed]",
      "text/plain": [
       "<Figure size 720x396 with 1 Axes>"
      ]
     },
     "metadata": {
      "needs_background": "light"
     },
     "output_type": "display_data"
    }
   ],
   "source": [
    "plt.clf()\n",
    "fig, ax = plt.subplots(figsize=(10,5.5))\n",
    "plt.xlabel('Tahun 2020-2022')\n",
    "plt.ylabel('Meninggal')\n",
    "\n",
    "plt.title('Total Meninggal tiap tahun')\n",
    "ax.bar(data=dat, x='Tanggal', height='Meninggal')\n",
    "plt.grid(True)\n",
    "plt.show()"
   ]
  },
  {
   "cell_type": "markdown",
   "id": "55a5d1fe",
   "metadata": {},
   "source": [
    "## Penjelasan\n",
    "- Dari grafik terlihat di atas terlihat ada gradien yang memiliki kemiringan tinggi ini berarti lonjakan kematian tertinggi terjadi pada bulan Juli 2021 hingga Sepetember 2021."
   ]
  },
  {
   "cell_type": "code",
   "execution_count": 52,
   "id": "53392af7",
   "metadata": {
    "id": "53392af7",
    "outputId": "51884fad-303c-41e4-d54e-16c8574e7f52"
   },
   "outputs": [
    {
     "data": {
      "image/png": "[encoded data removed]",
      "text/plain": [
       "<Figure size 792x396 with 1 Axes>"
      ]
     },
     "metadata": {
      "needs_background": "light"
     },
     "output_type": "display_data"
    }
   ],
   "source": [
    "plt.rcParams[\"figure.figsize\"] = (11,5.5)\n",
    "\n",
    "x = list(dat['Total Pasien'])\n",
    "y= list(dat['Sembuh'])\n",
    "plt.plot(x,y)\n",
    "\n",
    "plt.xlabel('Total Pasien')\n",
    "plt.ylabel('Total Pasien Sembuh')\n",
    "\n",
    "plt.title('Total Pasien vs Pasien Sembuh')\n",
    "plt.grid(True)\n",
    "\n",
    "plt.show()\n"
   ]
  },
  {
   "cell_type": "markdown",
   "id": "d709f96c",
   "metadata": {
    "id": "d709f96c"
   },
   "source": [
    "## Penjelasan \n",
    "- Tingkat kemungkinan SEMBUH hampir setara dengan TOTAL PASIEN sehingga menandakan kemungkinan SEMBUH sangat besar karena kurva menunjukan gradien hampir 45 derajat sempurna"
   ]
  },
  {
   "cell_type": "code",
   "execution_count": 53,
   "id": "cddbb87d",
   "metadata": {
    "id": "cddbb87d",
    "outputId": "0aa6b8fc-47c5-4bac-c4cf-beb8e47b8aba"
   },
   "outputs": [
    {
     "data": {
      "image/png": "[encoded data removed]",
      "text/plain": [
       "<Figure size 792x396 with 1 Axes>"
      ]
     },
     "metadata": {
      "needs_background": "light"
     },
     "output_type": "display_data"
    }
   ],
   "source": [
    "plt.rcParams[\"figure.figsize\"] = (11,5.5)\n",
    "\n",
    "x = list(dat['Meninggal'])\n",
    "y= list(dat['Total Pasien'])\n",
    "plt.plot(x,y)\n",
    "\n",
    "plt.xlabel('Total Pasien Meninggal')\n",
    "plt.ylabel('Total Pasien Positif')\n",
    "\n",
    "plt.title('Pasien Meninggal vs Pasien Positif')\n",
    "plt.grid(True)\n",
    "\n",
    "plt.show()"
   ]
  },
  {
   "cell_type": "markdown",
   "id": "6abcd726",
   "metadata": {
    "id": "6abcd726"
   },
   "source": [
    "## Penjelasan\n",
    "- Pada awalnya semakin BANYAK pasien POSITIF maka semakin BANYAK pasien MENINGGAL\n",
    "- Namun, saat kasus MENINGGAL sekitar 14.000 (Kemungkinan GELOMBANG yang terjadi tidak mematikan atau infrastruktur kesehatan telah memadai) KEMATIAN semakin SEDIKIT walaupun POSITIF semakin BANYAK.\n",
    "- Dapat terlihat dua kemungkinan GELOMBANG, yaitu saat kasus meninggal 12.000 dan kasus meninggal 14.000. GELOMBANG PERTAMA terjadi 12.000 kasus kematian akibat varian DELTA sedangkan GELOMBANG KEDUA akibat varian OMICRON karena terdapat banyak pasien yang SEMBUH"
   ]
  },
  {
   "cell_type": "code",
   "execution_count": 54,
   "id": "f71e8294",
   "metadata": {
    "id": "f71e8294",
    "outputId": "c59317e6-3f92-4a12-daee-6f86db163073"
   },
   "outputs": [
    {
     "data": {
      "image/png": "[encoded data removed]",
      "text/plain": [
       "<Figure size 792x396 with 1 Axes>"
      ]
     },
     "metadata": {
      "needs_background": "light"
     },
     "output_type": "display_data"
    }
   ],
   "source": [
    "plt.rcParams[\"figure.figsize\"] = (11,5.5)\n",
    "\n",
    "x = list(dat['Meninggal'])\n",
    "y= list(dat['Masih Perawatan'])\n",
    "plt.plot(x,y)\n",
    "\n",
    "plt.xlabel('Total Pasien Meninggal')\n",
    "plt.ylabel('Total Pasien Masih Perawatan')\n",
    "\n",
    "plt.title('Pasien Meninggal vs Pasien Dalam Perawatan')\n",
    "plt.grid(True)\n",
    "\n",
    "plt.show()"
   ]
  },
  {
   "cell_type": "markdown",
   "id": "ced4a9d5",
   "metadata": {
    "id": "ced4a9d5"
   },
   "source": [
    "## Penjelasan\n",
    "1. Semakin banyak PASIEN DALAM PERAWATAN maka PERTAMBAHAN KEMATIAN akan semakin BERKURANG. Hal ini kemungkinan dikarenakan oleh kebijakan seperti pemberian vaksin untuk meningkatkan imunitas.\n",
    "2. Terlihat pada grafik, terdapat gradien yang curam di saat total kematian 14.000 yang menandakan pasien MENINGGAL lebih SEDIKIT dibanding gradien yang tidak curam di saat total kematian 10.000 hingga hampir 14.000"
   ]
  },
  {
   "cell_type": "code",
   "execution_count": 55,
   "id": "192f2306",
   "metadata": {
    "id": "192f2306",
    "outputId": "4e36999b-1e8e-4b1c-e104-d58ce4488b4b"
   },
   "outputs": [
    {
     "data": {
      "text/html": [
       "<div>\n",
       "<style scoped>\n",
       "    .dataframe tbody tr th:only-of-type {\n",
       "        vertical-align: middle;\n",
       "    }\n",
       "\n",
       "    .dataframe tbody tr th {\n",
       "        vertical-align: top;\n",
       "    }\n",
       "\n",
       "    .dataframe thead th {\n",
       "        text-align: right;\n",
       "    }\n",
       "</style>\n",
       "<table border=\"1\" class=\"dataframe\">\n",
       "  <thead>\n",
       "    <tr style=\"text-align: right;\">\n",
       "      <th></th>\n",
       "      <th>Meninggal</th>\n",
       "      <th>Sembuh</th>\n",
       "      <th>Self Isolation</th>\n",
       "      <th>Masih Perawatan</th>\n",
       "      <th>Total Pasien</th>\n",
       "      <th>Positif Harian</th>\n",
       "      <th>Positif Aktif</th>\n",
       "      <th>Sembuh Harian</th>\n",
       "      <th>Tanpa Gejala</th>\n",
       "      <th>Bergejala</th>\n",
       "      <th>Belum Ada Data</th>\n",
       "    </tr>\n",
       "  </thead>\n",
       "  <tbody>\n",
       "    <tr>\n",
       "      <th>count</th>\n",
       "      <td>857.000000</td>\n",
       "      <td>8.570000e+02</td>\n",
       "      <td>857.000000</td>\n",
       "      <td>857.000000</td>\n",
       "      <td>8.570000e+02</td>\n",
       "      <td>857.000000</td>\n",
       "      <td>857.000000</td>\n",
       "      <td>857.000000</td>\n",
       "      <td>857.000000</td>\n",
       "      <td>857.000000</td>\n",
       "      <td>857.000000</td>\n",
       "    </tr>\n",
       "    <tr>\n",
       "      <th>mean</th>\n",
       "      <td>7700.759627</td>\n",
       "      <td>5.062412e+05</td>\n",
       "      <td>9102.583431</td>\n",
       "      <td>3415.969662</td>\n",
       "      <td>5.264605e+05</td>\n",
       "      <td>1490.968495</td>\n",
       "      <td>12518.553092</td>\n",
       "      <td>1461.374562</td>\n",
       "      <td>3016.124854</td>\n",
       "      <td>4086.577596</td>\n",
       "      <td>6480.653442</td>\n",
       "    </tr>\n",
       "    <tr>\n",
       "      <th>std</th>\n",
       "      <td>5790.480747</td>\n",
       "      <td>4.411524e+05</td>\n",
       "      <td>15078.788577</td>\n",
       "      <td>4744.150133</td>\n",
       "      <td>4.488291e+05</td>\n",
       "      <td>2515.387966</td>\n",
       "      <td>19411.602519</td>\n",
       "      <td>2736.567668</td>\n",
       "      <td>5683.016440</td>\n",
       "      <td>7414.412981</td>\n",
       "      <td>14147.781055</td>\n",
       "    </tr>\n",
       "    <tr>\n",
       "      <th>min</th>\n",
       "      <td>1.000000</td>\n",
       "      <td>0.000000e+00</td>\n",
       "      <td>0.000000</td>\n",
       "      <td>2.000000</td>\n",
       "      <td>3.000000e+00</td>\n",
       "      <td>0.000000</td>\n",
       "      <td>2.000000</td>\n",
       "      <td>0.000000</td>\n",
       "      <td>0.000000</td>\n",
       "      <td>0.000000</td>\n",
       "      <td>0.000000</td>\n",
       "    </tr>\n",
       "    <tr>\n",
       "      <th>25%</th>\n",
       "      <td>1743.000000</td>\n",
       "      <td>6.328600e+04</td>\n",
       "      <td>1381.000000</td>\n",
       "      <td>534.000000</td>\n",
       "      <td>7.778400e+04</td>\n",
       "      <td>132.000000</td>\n",
       "      <td>2379.000000</td>\n",
       "      <td>127.000000</td>\n",
       "      <td>0.000000</td>\n",
       "      <td>0.000000</td>\n",
       "      <td>521.000000</td>\n",
       "    </tr>\n",
       "    <tr>\n",
       "      <th>50%</th>\n",
       "      <td>6830.000000</td>\n",
       "      <td>3.986100e+05</td>\n",
       "      <td>4289.000000</td>\n",
       "      <td>2178.000000</td>\n",
       "      <td>4.124180e+05</td>\n",
       "      <td>686.000000</td>\n",
       "      <td>7057.000000</td>\n",
       "      <td>624.000000</td>\n",
       "      <td>55.000000</td>\n",
       "      <td>79.000000</td>\n",
       "      <td>1405.000000</td>\n",
       "    </tr>\n",
       "    <tr>\n",
       "      <th>75%</th>\n",
       "      <td>13579.000000</td>\n",
       "      <td>8.502280e+05</td>\n",
       "      <td>8801.000000</td>\n",
       "      <td>3970.000000</td>\n",
       "      <td>8.641780e+05</td>\n",
       "      <td>1425.000000</td>\n",
       "      <td>12440.000000</td>\n",
       "      <td>1294.000000</td>\n",
       "      <td>3776.000000</td>\n",
       "      <td>5810.000000</td>\n",
       "      <td>5207.000000</td>\n",
       "    </tr>\n",
       "    <tr>\n",
       "      <th>max</th>\n",
       "      <td>15329.000000</td>\n",
       "      <td>1.252398e+06</td>\n",
       "      <td>88295.000000</td>\n",
       "      <td>30418.000000</td>\n",
       "      <td>1.277760e+06</td>\n",
       "      <td>15825.000000</td>\n",
       "      <td>113138.000000</td>\n",
       "      <td>20570.000000</td>\n",
       "      <td>35311.000000</td>\n",
       "      <td>60476.000000</td>\n",
       "      <td>88873.000000</td>\n",
       "    </tr>\n",
       "  </tbody>\n",
       "</table>\n",
       "</div>"
      ],
      "text/plain": [
       "          Meninggal        Sembuh  Self Isolation  Masih Perawatan  \\\n",
       "count    857.000000  8.570000e+02      857.000000       857.000000   \n",
       "mean    7700.759627  5.062412e+05     9102.583431      3415.969662   \n",
       "std     5790.480747  4.411524e+05    15078.788577      4744.150133   \n",
       "min        1.000000  0.000000e+00        0.000000         2.000000   \n",
       "25%     1743.000000  6.328600e+04     1381.000000       534.000000   \n",
       "50%     6830.000000  3.986100e+05     4289.000000      2178.000000   \n",
       "75%    13579.000000  8.502280e+05     8801.000000      3970.000000   \n",
       "max    15329.000000  1.252398e+06    88295.000000     30418.000000   \n",
       "\n",
       "       Total Pasien  Positif Harian  Positif Aktif  Sembuh Harian  \\\n",
       "count  8.570000e+02      857.000000     857.000000     857.000000   \n",
       "mean   5.264605e+05     1490.968495   12518.553092    1461.374562   \n",
       "std    4.488291e+05     2515.387966   19411.602519    2736.567668   \n",
       "min    3.000000e+00        0.000000       2.000000       0.000000   \n",
       "25%    7.778400e+04      132.000000    2379.000000     127.000000   \n",
       "50%    4.124180e+05      686.000000    7057.000000     624.000000   \n",
       "75%    8.641780e+05     1425.000000   12440.000000    1294.000000   \n",
       "max    1.277760e+06    15825.000000  113138.000000   20570.000000   \n",
       "\n",
       "       Tanpa Gejala     Bergejala  Belum Ada Data  \n",
       "count    857.000000    857.000000      857.000000  \n",
       "mean    3016.124854   4086.577596     6480.653442  \n",
       "std     5683.016440   7414.412981    14147.781055  \n",
       "min        0.000000      0.000000        0.000000  \n",
       "25%        0.000000      0.000000      521.000000  \n",
       "50%       55.000000     79.000000     1405.000000  \n",
       "75%     3776.000000   5810.000000     5207.000000  \n",
       "max    35311.000000  60476.000000    88873.000000  "
      ]
     },
     "execution_count": 55,
     "metadata": {},
     "output_type": "execute_result"
    }
   ],
   "source": [
    "# Summary data\n",
    "dat.describe()\n",
    "# didapat?"
   ]
  },
  {
   "cell_type": "code",
   "execution_count": 56,
   "id": "8a943e85",
   "metadata": {
    "id": "8a943e85",
    "outputId": "619c6a84-cbf2-402b-f7dc-477dfe374618"
   },
   "outputs": [
    {
     "data": {
      "text/plain": [
       "15329"
      ]
     },
     "execution_count": 56,
     "metadata": {},
     "output_type": "execute_result"
    }
   ],
   "source": [
    "dat['Meninggal'].max()"
   ]
  },
  {
   "cell_type": "markdown",
   "id": "xPBmx0NQoFIe",
   "metadata": {
    "id": "xPBmx0NQoFIe"
   },
   "source": [
    "## Penjelasan\n",
    "Total pasien covid yang meninggal di Jakarta adalah sebanyak 15.329 "
   ]
  },
  {
   "cell_type": "code",
   "execution_count": 57,
   "id": "753c370a",
   "metadata": {
    "id": "753c370a",
    "outputId": "c0e347b9-cf4f-4043-f345-23aa8c3927fd"
   },
   "outputs": [
    {
     "data": {
      "text/plain": [
       "1252398"
      ]
     },
     "execution_count": 57,
     "metadata": {},
     "output_type": "execute_result"
    }
   ],
   "source": [
    "dat['Sembuh'].max()\n"
   ]
  },
  {
   "cell_type": "markdown",
   "id": "2jeG-5nnoXWQ",
   "metadata": {
    "id": "2jeG-5nnoXWQ"
   },
   "source": [
    "## Penjelasan\n",
    "Total Pasien yang sembuh adalah 1.252.398 orang "
   ]
  },
  {
   "cell_type": "code",
   "execution_count": 58,
   "id": "da6720a1",
   "metadata": {
    "id": "da6720a1",
    "outputId": "7ddca83a-4fe5-4ae2-af83-bb05b1b6567c"
   },
   "outputs": [
    {
     "data": {
      "text/plain": [
       "1491"
      ]
     },
     "execution_count": 58,
     "metadata": {},
     "output_type": "execute_result"
    }
   ],
   "source": [
    "# Rata rata positif harian\n",
    "round(dat['Positif Harian'].mean())\n"
   ]
  },
  {
   "cell_type": "markdown",
   "id": "p97-dMlfoygA",
   "metadata": {
    "id": "p97-dMlfoygA"
   },
   "source": []
  },
  {
   "cell_type": "markdown",
   "id": "_XxzXn3aogDT",
   "metadata": {
    "id": "_XxzXn3aogDT"
   },
   "source": [
    "## Penjelasan\n",
    "Ada sekitar 1.487 orang terkena covid-19 setiap harinya di jakarta di dari bulan Maret 2020- Juli 2022"
   ]
  },
  {
   "cell_type": "code",
   "execution_count": 59,
   "id": "434256ce",
   "metadata": {
    "id": "434256ce",
    "outputId": "eef3f4a3-d6c6-4a5e-df24-1225b7c72708"
   },
   "outputs": [
    {
     "data": {
      "text/html": [
       "<div>\n",
       "<style scoped>\n",
       "    .dataframe tbody tr th:only-of-type {\n",
       "        vertical-align: middle;\n",
       "    }\n",
       "\n",
       "    .dataframe tbody tr th {\n",
       "        vertical-align: top;\n",
       "    }\n",
       "\n",
       "    .dataframe thead th {\n",
       "        text-align: right;\n",
       "    }\n",
       "</style>\n",
       "<table border=\"1\" class=\"dataframe\">\n",
       "  <thead>\n",
       "    <tr style=\"text-align: right;\">\n",
       "      <th></th>\n",
       "      <th>Tanggal</th>\n",
       "      <th>Meninggal</th>\n",
       "      <th>Sembuh</th>\n",
       "      <th>Self Isolation</th>\n",
       "      <th>Masih Perawatan</th>\n",
       "      <th>Total Pasien</th>\n",
       "      <th>Positif Harian</th>\n",
       "      <th>Positif Aktif</th>\n",
       "      <th>Sembuh Harian</th>\n",
       "      <th>Tanpa Gejala</th>\n",
       "      <th>Bergejala</th>\n",
       "      <th>Belum Ada Data</th>\n",
       "    </tr>\n",
       "  </thead>\n",
       "  <tbody>\n",
       "    <tr>\n",
       "      <th>854</th>\n",
       "      <td>2022-07-03</td>\n",
       "      <td>15320</td>\n",
       "      <td>1248357</td>\n",
       "      <td>8333</td>\n",
       "      <td>745</td>\n",
       "      <td>1272755</td>\n",
       "      <td>931</td>\n",
       "      <td>9078</td>\n",
       "      <td>1213</td>\n",
       "      <td>0.0</td>\n",
       "      <td>18.0</td>\n",
       "      <td>9060.0</td>\n",
       "    </tr>\n",
       "    <tr>\n",
       "      <th>855</th>\n",
       "      <td>2022-07-04</td>\n",
       "      <td>15323</td>\n",
       "      <td>1249496</td>\n",
       "      <td>7937</td>\n",
       "      <td>736</td>\n",
       "      <td>1273492</td>\n",
       "      <td>737</td>\n",
       "      <td>8673</td>\n",
       "      <td>1139</td>\n",
       "      <td>0.0</td>\n",
       "      <td>14.0</td>\n",
       "      <td>8659.0</td>\n",
       "    </tr>\n",
       "    <tr>\n",
       "      <th>856</th>\n",
       "      <td>2022-07-05</td>\n",
       "      <td>15325</td>\n",
       "      <td>1250388</td>\n",
       "      <td>8267</td>\n",
       "      <td>788</td>\n",
       "      <td>1274768</td>\n",
       "      <td>1276</td>\n",
       "      <td>9055</td>\n",
       "      <td>892</td>\n",
       "      <td>0.0</td>\n",
       "      <td>52.0</td>\n",
       "      <td>9003.0</td>\n",
       "    </tr>\n",
       "    <tr>\n",
       "      <th>857</th>\n",
       "      <td>2022-07-06</td>\n",
       "      <td>15327</td>\n",
       "      <td>1251237</td>\n",
       "      <td>8946</td>\n",
       "      <td>774</td>\n",
       "      <td>1276284</td>\n",
       "      <td>1516</td>\n",
       "      <td>9720</td>\n",
       "      <td>849</td>\n",
       "      <td>0.0</td>\n",
       "      <td>53.0</td>\n",
       "      <td>9667.0</td>\n",
       "    </tr>\n",
       "    <tr>\n",
       "      <th>858</th>\n",
       "      <td>2022-07-07</td>\n",
       "      <td>15329</td>\n",
       "      <td>1252398</td>\n",
       "      <td>9220</td>\n",
       "      <td>813</td>\n",
       "      <td>1277760</td>\n",
       "      <td>1476</td>\n",
       "      <td>10033</td>\n",
       "      <td>1161</td>\n",
       "      <td>0.0</td>\n",
       "      <td>68.0</td>\n",
       "      <td>9965.0</td>\n",
       "    </tr>\n",
       "  </tbody>\n",
       "</table>\n",
       "</div>"
      ],
      "text/plain": [
       "       Tanggal  Meninggal   Sembuh  Self Isolation  Masih Perawatan  \\\n",
       "854 2022-07-03      15320  1248357            8333              745   \n",
       "855 2022-07-04      15323  1249496            7937              736   \n",
       "856 2022-07-05      15325  1250388            8267              788   \n",
       "857 2022-07-06      15327  1251237            8946              774   \n",
       "858 2022-07-07      15329  1252398            9220              813   \n",
       "\n",
       "     Total Pasien  Positif Harian  Positif Aktif  Sembuh Harian  Tanpa Gejala  \\\n",
       "854       1272755             931           9078           1213           0.0   \n",
       "855       1273492             737           8673           1139           0.0   \n",
       "856       1274768            1276           9055            892           0.0   \n",
       "857       1276284            1516           9720            849           0.0   \n",
       "858       1277760            1476          10033           1161           0.0   \n",
       "\n",
       "     Bergejala  Belum Ada Data  \n",
       "854       18.0          9060.0  \n",
       "855       14.0          8659.0  \n",
       "856       52.0          9003.0  \n",
       "857       53.0          9667.0  \n",
       "858       68.0          9965.0  "
      ]
     },
     "execution_count": 59,
     "metadata": {},
     "output_type": "execute_result"
    }
   ],
   "source": [
    "# cek data terakhir untuk mengukur mortality rate terakhir\n",
    "dat.tail()"
   ]
  },
  {
   "cell_type": "code",
   "execution_count": 60,
   "id": "0f62d553",
   "metadata": {
    "id": "0f62d553",
    "outputId": "2d17a11e-2bce-4106-e689-c8f0362f254a"
   },
   "outputs": [
    {
     "data": {
      "text/plain": [
       "1.1996775607312797"
      ]
     },
     "execution_count": 60,
     "metadata": {},
     "output_type": "execute_result"
    }
   ],
   "source": [
    "# mortality rate \n",
    "mortality_rate = dat.at[858,'Meninggal']/dat.at[858,'Total Pasien']\n",
    "mortality_rate*100\n"
   ]
  },
  {
   "cell_type": "markdown",
   "id": "f77c441e",
   "metadata": {
    "id": "f77c441e"
   },
   "source": [
    "## Penjelasan\n",
    "Mortality rate pada update terakhir data ini adalah sebesar 1,19 %"
   ]
  },
  {
   "cell_type": "code",
   "execution_count": 61,
   "id": "4e434276",
   "metadata": {
    "id": "4e434276",
    "outputId": "7d68188f-c6d7-4b4e-dfff-44a4bc7ecf8e"
   },
   "outputs": [
    {
     "data": {
      "text/plain": [
       "98.01512021036814"
      ]
     },
     "execution_count": 61,
     "metadata": {},
     "output_type": "execute_result"
    }
   ],
   "source": [
    "# Recovery rate\n",
    "recovery_rate = dat.at[858,'Sembuh']/dat.at[858,'Total Pasien']\n",
    "recovery_rate*100"
   ]
  },
  {
   "cell_type": "markdown",
   "id": "72408fb4",
   "metadata": {
    "id": "72408fb4"
   },
   "source": [
    "# Penjelasan \n",
    "Recovery rate pada update data terakhir adalah 98.01%. Hal ini menunjukkan bahwa kebijakan pemerintah cukup berhasil menekan angka kematian sampai sekecil-kecilnya sehingga harapan hidup dari pasien yang terjangkit covid sangat besar.  "
   ]
  },
  {
   "cell_type": "markdown",
   "id": "25fedef1",
   "metadata": {
    "id": "25fedef1"
   },
   "source": [
    "## <div style=\"color:red\"> BAB 4 : Modelling </div>"
   ]
  },
  {
   "cell_type": "code",
   "execution_count": 62,
   "id": "5bf4cfd8",
   "metadata": {
    "id": "5bf4cfd8",
    "outputId": "b97e8405-d0df-40e9-f391-c90753a02975"
   },
   "outputs": [
    {
     "name": "stderr",
     "output_type": "stream",
     "text": [
      "C:\\Users\\niman\\AppData\\Local\\Temp\\ipykernel_59036\\117074367.py:39: MatplotlibDeprecationWarning: The 'b' parameter of grid() has been renamed 'visible' since Matplotlib 3.5; support for the old name will be dropped two minor releases later.\n",
      "  ax.grid(b=True, which='major', c='w', lw=2, ls='-')\n"
     ]
    },
    {
     "data": {
      "image/png": "[encoded data removed]",
      "text/plain": [
       "<Figure size 792x396 with 1 Axes>"
      ]
     },
     "metadata": {},
     "output_type": "display_data"
    }
   ],
   "source": [
    "# TAHAPAN PEMODELAN \n",
    "\n",
    "# Total population, -> penduduk jakarta sekitar 1 juta orang\n",
    "N = 10000000\n",
    "# Initial number of infected and recovered individuals, I0 and R0.\n",
    "I0, R0 = 2, 0\n",
    "# Everyone else, S0, is susceptible to infection initially.\n",
    "S0 = N - I0 - R0\n",
    "# Contact rate, beta, and mean recovery rate, gamma, (in 1/days).\n",
    "beta, gamma = 0.2, 9994/(15707*30) \n",
    "# A grid of time points (in days)\n",
    "t = np.linspace(0, 365, 365)\n",
    "\n",
    "# The SIR model differential equations.\n",
    "def deriv(y, t, N, beta, gamma):\n",
    "    S, I, R = y\n",
    "    dSdt = -beta * S * I / N\n",
    "    dIdt = beta * S * I / N - gamma * I\n",
    "    dRdt = gamma * I\n",
    "    return dSdt, dIdt, dRdt\n",
    "\n",
    "# Initial conditions vector\n",
    "y0 = S0, I0, R0\n",
    "# Integrate the SIR equations over the time grid, t.\n",
    "ret = odeint(deriv, y0, t, args=(N, beta, gamma))\n",
    "S, I, R = ret.T\n",
    "\n",
    "# Plot the data on three separate curves for S(t), I(t) and R(t)\n",
    "fig = plt.figure(facecolor='w')\n",
    "ax = fig.add_subplot(111, facecolor='#dddddd', axisbelow=True)\n",
    "ax.plot(t, S/N, 'b', alpha=0.5, lw=2, label='Susceptible')\n",
    "ax.plot(t, I/N, 'r', alpha=0.5, lw=2, label='Infected')\n",
    "ax.plot(t, R/N, 'g', alpha=0.5, lw=2, label='Recovered with immunity')\n",
    "ax.set_xlabel('Time /days')\n",
    "ax.set_ylabel('Number (1000s)')\n",
    "ax.set_ylim(0,1)\n",
    "ax.yaxis.set_tick_params(length=0)\n",
    "ax.xaxis.set_tick_params(length=0)\n",
    "ax.grid(b=True, which='major', c='w', lw=2, ls='-')\n",
    "legend = ax.legend()\n",
    "legend.get_frame().set_alpha(0.5)\n",
    "for spine in ('top', 'right', 'bottom', 'left'):\n",
    "    ax.spines[spine].set_visible(False)\n",
    "plt.show();"
   ]
  },
  {
   "cell_type": "markdown",
   "id": "3713eab8",
   "metadata": {
    "id": "3713eab8"
   },
   "source": [
    "## Penjelasan\n",
    "- Berdasarkan prediksi dari model SIR yang telah dicoba, peneliti memprediksi gelombang tertinggi kasus covid-19 akan terjadi pada hari ke-100 semenjak kemunculannya pada bulan Maret 2020. \n",
    "- Model diatas ini adalah prediksi gambaran sederhana tentang gelombang Covid-19 dengan anggapan tidak diberikannya perlakuan khusus/parameter yang dilakukan untuk mencegah Covid-19."
   ]
  },
  {
   "cell_type": "code",
   "execution_count": 63,
   "id": "0c61e3d1",
   "metadata": {
    "id": "0c61e3d1",
    "outputId": "e3f68904-1960-4010-a562-b22e1df8f0c3"
   },
   "outputs": [
    {
     "name": "stderr",
     "output_type": "stream",
     "text": [
      "C:\\Users\\niman\\AppData\\Local\\Temp\\ipykernel_59036\\4249779233.py:39: MatplotlibDeprecationWarning: The 'b' parameter of grid() has been renamed 'visible' since Matplotlib 3.5; support for the old name will be dropped two minor releases later.\n",
      "  ax.grid(b=True, which='major', c='w', lw=2, ls='-')\n"
     ]
    },
    {
     "data": {
      "image/png": "[encoded data removed]",
      "text/plain": [
       "<Figure size 792x396 with 1 Axes>"
      ]
     },
     "metadata": {},
     "output_type": "display_data"
    }
   ],
   "source": [
    "## jika diberikan parameter rho sebagai parameter. rho : perlakuan seperti social distancing\n",
    "\n",
    "# Total population, -> penduduk jakarta sekitar 10 juta orang\n",
    "N = 10000000\n",
    "# Initial number of infected and recovered individuals, I0 and R0.\n",
    "I0, R0 = 2, 0\n",
    "# Everyone else, S0, is susceptible to infection initially.\n",
    "S0 = N - I0 - R0\n",
    "# Contact rate, beta, and mean recovery rate, gamma, (in 1/days).\n",
    "beta, gamma,rho = 0.2, 9994/(15707*30),0.5\n",
    "# A grid of time points (in days)\n",
    "t = np.linspace(0, 365, 365)\n",
    "\n",
    "# The SIR model differential equations.\n",
    "def deriv(y, t, N, beta, gamma,rho):\n",
    "    S, I, R = y\n",
    "    dSdt = -beta *rho* S * I / N\n",
    "    dIdt = beta *rho * S * I / N - gamma * I\n",
    "    dRdt = gamma * I\n",
    "    return dSdt, dIdt, dRdt\n",
    "\n",
    "# Initial conditions vector\n",
    "y0 = S0, I0, R0\n",
    "# Integrate the SIR equations over the time grid, t.\n",
    "ret = odeint(deriv, y0, t, args=(N, beta, gamma, rho))\n",
    "S, I, R = ret.T\n",
    "\n",
    "# Plot the data on three separate curves for S(t), I(t) and R(t)\n",
    "fig = plt.figure(facecolor='w')\n",
    "ax = fig.add_subplot(111, facecolor='#dddddd', axisbelow=True)\n",
    "ax.plot(t, S/N, 'b', alpha=0.5, lw=2, label='Susceptible')\n",
    "ax.plot(t, I/N, 'r', alpha=0.5, lw=2, label='Infected')\n",
    "ax.plot(t, R/N, 'g', alpha=0.5, lw=2, label='Recovered with immunity')\n",
    "ax.set_xlabel('Time /days')\n",
    "ax.set_ylabel('Number (1000s)')\n",
    "ax.set_ylim(0,1)\n",
    "ax.yaxis.set_tick_params(length=0)\n",
    "ax.xaxis.set_tick_params(length=0)\n",
    "ax.grid(b=True, which='major', c='w', lw=2, ls='-')\n",
    "legend = ax.legend()\n",
    "legend.get_frame().set_alpha(0.5)\n",
    "for spine in ('top', 'right', 'bottom', 'left'):\n",
    "    ax.spines[spine].set_visible(False)\n",
    "plt.show()"
   ]
  },
  {
   "cell_type": "markdown",
   "id": "7af19ec3",
   "metadata": {
    "id": "7af19ec3"
   },
   "source": [
    "## Penjelasan\n",
    "- Pada model prediksi diatas, diberikan parameter baru berupa Rho(ρ). ρ adalah perlakuan khusus yang diberikan untuk menekan penyebaran covid-19 ke populasi yang rentan seperti kebijakan social distancing. ρ bernilai antar 0-1. Pada penelitian ini, peneliti menganggap efek social distancing ini memberikan efek yang cukup sebesar 0,5 dari skala 0-1.  \n",
    "- Setelah diberikannya parameter ρ, peneliti memprediksi gelombang tertinggi kasus covid-19 akan terjadi setelah hari ke-200 dan gelombang tertingginya lebih rendah daripada tidak diberikan parameter ρ ."
   ]
  },
  {
   "cell_type": "markdown",
   "id": "ba90cd92",
   "metadata": {
    "id": "aff132e9"
   },
   "source": [
    "## <div style=\"color:red\">Kesimpulan</div> \n",
    "\n",
    "- Dengan melakukan analisis dengan metode SIR sehinga didapatkan bahwa gelombang pertama Covid-19 yang terjadi pada pertengahan tahun 2021 memiliki tingkat infeksi yang tinggi dengan tingkat kematian yang tinggi hal ini dapat dilihat pada grafik di atas yang menggambarkan lonjakan pasien Covid-19 beserta peningkatan jumlah kematian yang sangat tinggi di bulan Juli 2021 hingga Sepetember 2021.\n",
    "- Gelombang kedua yang terjadi pada awal quartal 2022 memiliki tingkat infeksi yang lebih tinggi dari tahun sebelumnya tetapi memiliki tingkat kematian yang lebih rendah.\n",
    "- Jumlah kematian yang semakin menurun dari gelombang yang sebelumnya dapat dilihat dari grafik hasil analisis di atas yang menunjukan semakin curam grafik maka angka kematian semakin sedikit dan berlaku sebaliknya.\n",
    "- Namun seiring berjalannya waktu total pasien yang terjangkit Covid-19 memiliki gradien hampir sempurna 45 derajat dengan pasien yang sembuh sehingga itu berarti hampir semua pasien yang terjangkit memiliki peluang sembuh yang tinggi.\n",
    "- Peneliti menyarankan berdasarkan hasil data percobaan diatas bahwa kebijakan social distancing dan tindakan pencegahan penyebaran virus lainnya perlu diberlakukan sebelum H-100 setelah kejadian pertama agar memberikan pengaruh yang efektif."
   ]
  },
  {
   "cell_type": "markdown",
   "id": "42094773",
   "metadata": {
    "id": "70b163f5"
   },
   "source": [
    "## <div style=\"color:red\">Daftar Pusataka</div> \n",
    "1. Cooper, I., Mondal, A. and Antonopoulos, C.G., 2020. A SIR model assumption for the spread of COVID-19 in different communities. Chaos, Solitons & Fractals, 139, p.110057.\n",
    "2. https://tiny.cc/Datacovidjakarta"
   ]
  }
 ],
 "metadata": {
  "colab": {
   "name": "DSA - Xyieng Pylieng Mynieng.ipynb",
   "provenance": []
  },
  "kernelspec": {
   "display_name": "Python 3 (ipykernel)",
   "language": "python",
   "name": "python3"
  },
  "language_info": {
   "codemirror_mode": {
    "name": "ipython",
    "version": 3
   },
   "file_extension": ".py",
   "mimetype": "text/x-python",
   "name": "python",
   "nbconvert_exporter": "python",
   "pygments_lexer": "ipython3",
   "version": "3.9.6"
  }
 },
 "nbformat": 4,
 "nbformat_minor": 5
}
